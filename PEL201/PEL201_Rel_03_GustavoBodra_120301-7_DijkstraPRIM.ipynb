{
 "cells": [
  {
   "cell_type": "markdown",
   "id": "f34d7e1b",
   "metadata": {},
   "source": [
    "# Exercício 03 - PEL201\n",
    "\n",
    "Nome: Gustavo Bodra\n",
    "\n",
    "Matrícula: 120301-7\n",
    "\n",
    "## Exercício\n",
    "\n",
    "Implementar o Algoritmo de PRIM e de Djkstra."
   ]
  },
  {
   "cell_type": "code",
   "execution_count": 1,
   "id": "61f3447d",
   "metadata": {},
   "outputs": [],
   "source": [
    "from collections import deque, namedtuple\n",
    "import string\n",
    "import random\n",
    "from random import seed\n",
    "from random import randint\n",
    "import time\n",
    "import timeit\n",
    "from itertools import chain\n",
    "import functools\n",
    "from tqdm import tqdm\n",
    "import matplotlib.pyplot as plt\n",
    "\n",
    "seed(1)"
   ]
  },
  {
   "cell_type": "code",
   "execution_count": 2,
   "id": "d8c437b8",
   "metadata": {},
   "outputs": [
    {
     "data": {
      "text/plain": [
       "[[0, 1, 17],\n",
       " [0, 2, 72],\n",
       " [0, 3, 97],\n",
       " [0, 4, 8],\n",
       " [0, 5, 32],\n",
       " [0, 6, 15],\n",
       " [0, 7, 63],\n",
       " [0, 8, 97],\n",
       " [0, 9, 57],\n",
       " [0, 10, 60]]"
      ]
     },
     "execution_count": 2,
     "metadata": {},
     "output_type": "execute_result"
    }
   ],
   "source": [
    "dense_graph = [ [ [letter, oletter, randint(0, 100)] for oletter in range(0, 26) if oletter != letter] for letter in range(0, 26) ]\n",
    "dense_graph = list(chain.from_iterable(dense_graph))\n",
    "dense_graph[:10]"
   ]
  },
  {
   "cell_type": "code",
   "execution_count": 3,
   "id": "0e328c33",
   "metadata": {},
   "outputs": [
    {
     "data": {
      "text/plain": [
       "[[0, 1, 65],\n",
       " [0, 2, 48],\n",
       " [0, 8, 72],\n",
       " [0, 9, 96],\n",
       " [0, 10, 6],\n",
       " [0, 12, 50],\n",
       " [0, 13, 81],\n",
       " [0, 16, 21],\n",
       " [0, 17, 93],\n",
       " [0, 18, 5]]"
      ]
     },
     "execution_count": 3,
     "metadata": {},
     "output_type": "execute_result"
    }
   ],
   "source": [
    "sparse_graph = [ [ [letter, oletter, randint(0, 100)] for oletter in range(0, 26) if oletter != letter and bool(random.getrandbits(1))] for letter in range(0, 26) ]\n",
    "sparse_graph = list(chain.from_iterable(sparse_graph))\n",
    "sparse_graph[:10]"
   ]
  },
  {
   "cell_type": "markdown",
   "id": "e404cd4d",
   "metadata": {},
   "source": [
    "### Algoritmo de PRIM\n",
    "O algoritmo de PRIM é um algoritmo que encontra a árvore de extensão mínima (Minimum Spanning Tree) de um grafo. Este algoritmo consiste nos seguintes passos:\n",
    "\n",
    "1. Selecionar um vértice aleatoriamente e iniciar a árvore;\n",
    "\n",
    "2. Selecione uma aresta que se conecta com um vértice que já está na árvore e que tenha o menor custo;\n",
    "\n",
    "3. Insira esta aresta e seu vértice no grafo;\n",
    "\n",
    "4. Repita o passo 2 e 3 até que todos os vértices estejam na árvore.\n",
    "\n",
    "`Linguagem: Python`"
   ]
  },
  {
   "cell_type": "code",
   "execution_count": 4,
   "id": "d11aa1aa",
   "metadata": {},
   "outputs": [],
   "source": [
    "def create_adj_matrix(V, G):\n",
    "    adj_matrix = []\n",
    "    \n",
    "    for i in range(0, V):\n",
    "        adj_matrix.append([])\n",
    "        \n",
    "        for j in range(0, V):\n",
    "            adj_matrix[i].append(0)\n",
    "    \n",
    "    for i in range(0, len(G)):\n",
    "        adj_matrix[G[i][0]][G[i][1]] = G[i][2]\n",
    "        adj_matrix[G[i][1]][G[i][0]] = G[i][2]\n",
    "    \n",
    "    return adj_matrix\n",
    "\n",
    "def prims(V, G):\n",
    "    adj_matrix = create_adj_matrix(V, G)\n",
    "    vertex = 0\n",
    "    MST = []\n",
    "    edges = []\n",
    "    visited = []\n",
    "    min_edge = [None,None,float('inf')]\n",
    "    \n",
    "    while len(MST) != V-1:\n",
    "        visited.append(vertex)\n",
    "        \n",
    "        for r in range(0, V):\n",
    "            if adj_matrix[vertex][r] != 0:\n",
    "                edges.append([vertex,r,adj_matrix[vertex][r]])\n",
    "        \n",
    "        for e in range(0, len(edges)):\n",
    "            if edges[e][2] < min_edge[2] and edges[e][1] not in visited:\n",
    "                min_edge = edges[e]\n",
    "        \n",
    "        edges.remove(min_edge)\n",
    "        MST.append(min_edge)\n",
    "        vertex = min_edge[1]\n",
    "        min_edge = [None,None,float('inf')]\n",
    "\n",
    "    return MST"
   ]
  },
  {
   "cell_type": "code",
   "execution_count": 5,
   "id": "5c53ace7",
   "metadata": {},
   "outputs": [
    {
     "name": "stderr",
     "output_type": "stream",
     "text": [
      "100%|██████████| 100/100 [00:00<00:00, 180.90it/s]\n",
      "100%|██████████| 100/100 [00:00<00:00, 252.56it/s]\n"
     ]
    }
   ],
   "source": [
    "n_tests = 100\n",
    "\n",
    "prims_dense_runtime_list = []\n",
    "for i in tqdm(range(0, n_tests)):\n",
    "    prims_start = time.time()\n",
    "    prims(26, dense_graph)\n",
    "    prims_end = time.time()\n",
    "    prims_runtime = prims_end - prims_start\n",
    "    prims_dense_runtime_list.append(prims_runtime)\n",
    "\n",
    "prims_sparse_runtime_list = []\n",
    "for i in tqdm(range(0, n_tests)):\n",
    "    prims_start = time.time()\n",
    "    prims(26, sparse_graph)\n",
    "    prims_end = time.time()\n",
    "    prims_runtime = prims_end - prims_start\n",
    "    prims_sparse_runtime_list.append(prims_runtime)"
   ]
  },
  {
   "cell_type": "markdown",
   "id": "c6028891",
   "metadata": {},
   "source": [
    "### Algoritmo Dijkstra\n",
    "O algoritmo de Dijkstra encontra o menor caminho entre os nós de um grafo. Este algoritmo consiste nos seguintes passos:\n",
    "\n",
    "1. Marque todos os nós como não visitados e crie uma lista de nós ainda não visitados;\n",
    "\n",
    "2. Coloque uma distância inicial para cada nó. Para o nó de origem coloque 0 para os demais coloque INFINITO;\n",
    "\n",
    "3. Para o nó atual busque todos os seus vizinhos e compare a distância estimada inicialmente e a distância real, salve o menor valor;\n",
    "\n",
    "4. Ao terminar de visitar todos os nós vizinhos, marque o nó inicial como visitado e remova da lista de nós não visitados;\n",
    "\n",
    "5. Se o nó de destino for marcado como visitado ou então a menor distância estimada para os nós da lista de não visitados for infinito, finalize o algoritmo.\n",
    "\n",
    "6. Caso contrário selecione o nó não visitado com a menor distância estimada e volte ao passo 3.\n",
    "\n",
    "`Linguagem: Python`"
   ]
  },
  {
   "cell_type": "code",
   "execution_count": 6,
   "id": "84e6d79f",
   "metadata": {},
   "outputs": [],
   "source": [
    "INF = float('inf')\n",
    "Edge = namedtuple('Edge', 'start, end, cost')\n",
    "\n",
    "\n",
    "def make_edge(start, end, cost=1):\n",
    "    return Edge(start, end, cost)\n",
    "\n",
    "class Graph:\n",
    "    def __init__(self, edges):\n",
    "        self.edges = [make_edge(*edge) for edge in edges]\n",
    "\n",
    "    @property\n",
    "    def vertices(self):\n",
    "        return set(\n",
    "            sum(\n",
    "                ([edge.start, edge.end] for edge in self.edges), []\n",
    "            )\n",
    "        )\n",
    "\n",
    "    def get_node_pairs(self, n1, n2):\n",
    "        return [[n1, n2]]\n",
    "\n",
    "    def remove_edge(self, n1, n2):\n",
    "        node_pairs = self.get_node_pairs(n1, n2)\n",
    "        edges = self.edges[:]\n",
    "        \n",
    "        for edge in edges:\n",
    "            if [edge.start, edge.end] in node_pairs:\n",
    "                self.edges.remove(edge)\n",
    "\n",
    "    def add_edge(self, n1, n2, cost=1):\n",
    "        node_pairs = self.get_node_pairs(n1, n2)\n",
    "        self.edges.append(Edge(start=n1, end=n2, cost=cost))\n",
    "\n",
    "    @property\n",
    "    def neighbours(self):\n",
    "        neighbours = { vertex: set() for vertex in self.vertices }\n",
    "        \n",
    "        for edge in self.edges:\n",
    "            neighbours[edge.start].add((edge.end, edge.cost))\n",
    "\n",
    "        return neighbours\n",
    "\n",
    "    def dijkstra(self, source, dest):\n",
    "        distances = { vertex: INF for vertex in self.vertices }\n",
    "        \n",
    "        previous_vertices = { vertex: None for vertex in self.vertices }\n",
    "        \n",
    "        distances[source] = 0\n",
    "        vertices = self.vertices.copy()\n",
    "\n",
    "        while vertices:\n",
    "            current_vertex = min(vertices, key=lambda vertex: distances[vertex])\n",
    "            vertices.remove(current_vertex)\n",
    "            \n",
    "            if distances[current_vertex] == INF:\n",
    "                break\n",
    "            \n",
    "            for neighbour, cost in self.neighbours[current_vertex]:\n",
    "                alternative_route = distances[current_vertex] + cost\n",
    "                \n",
    "                if alternative_route < distances[neighbour]:\n",
    "                    distances[neighbour] = alternative_route\n",
    "                    previous_vertices[neighbour] = current_vertex\n",
    "\n",
    "        path, current_vertex = deque(), dest\n",
    "        \n",
    "        while previous_vertices[current_vertex] is not None:\n",
    "            path.appendleft(current_vertex)\n",
    "            current_vertex = previous_vertices[current_vertex]\n",
    "        \n",
    "        if path:\n",
    "            path.appendleft(current_vertex)\n",
    "        \n",
    "        return list(path)"
   ]
  },
  {
   "cell_type": "code",
   "execution_count": 7,
   "id": "aaa2e949",
   "metadata": {},
   "outputs": [
    {
     "name": "stderr",
     "output_type": "stream",
     "text": [
      "100%|██████████| 100/100 [00:15<00:00,  6.45it/s]\n",
      "100%|██████████| 100/100 [00:05<00:00, 17.86it/s]\n"
     ]
    }
   ],
   "source": [
    "graph = Graph(dense_graph)\n",
    "n_tests = 100\n",
    "\n",
    "dijkstra_dense_runtime_list = []\n",
    "for i in tqdm(range(0, n_tests)):\n",
    "    dijkstra_start = time.time()\n",
    "    graph.dijkstra(0, 25)\n",
    "    dijkstra_end = time.time()\n",
    "    dijkstra_runtime = dijkstra_end - dijkstra_start\n",
    "    dijkstra_dense_runtime_list.append(dijkstra_runtime)\n",
    "\n",
    "# Esparso\n",
    "graph = Graph(sparse_graph)\n",
    "\n",
    "dijkstra_sparse_runtime_list = []\n",
    "for i in tqdm(range(0, n_tests)):\n",
    "    dijkstra_start = time.time()\n",
    "    graph.dijkstra(0, 25)\n",
    "    dijkstra_end = time.time()\n",
    "    dijkstra_runtime = dijkstra_end - dijkstra_start\n",
    "    dijkstra_sparse_runtime_list.append(dijkstra_runtime)"
   ]
  },
  {
   "cell_type": "markdown",
   "id": "7cef650b",
   "metadata": {},
   "source": [
    "### Principais Diferenças\n",
    "\n",
    "1. O algoritmo de Dijkstra encontra o menor caminho entre nós e o algoritmo de PRIM encontra a árvore de extensão mínima;\n",
    "\n",
    "2. O algoritmo de PRIM funciona somente em grafos não-direcionais sendo que o algoritmo de Dijkstra consegue trabalhar com grafos direcionais e não-direcionais\n",
    "\n",
    "3. O algoritmo de Dijkstra falhará caso uma das distâncias for negativa ao contrário do algoritmo de PRIM que não terá problemas.\n",
    "\n",
    "Os algoritmos são similares, porém sua aplicação é ligeiramente diferente. Podemos pensar no algoritmo de Dijkstra como a melhor forma de planejar uma rota entre diversas cidades com o objetivo de economizar tempo e combustível. Já o algoritmo de PRIM irá servir para planejar a forma mais eficiente de se construir estradas para conectar duas cidades."
   ]
  },
  {
   "cell_type": "markdown",
   "id": "48a7cd06",
   "metadata": {},
   "source": [
    "### Comparativo de Desempenho"
   ]
  },
  {
   "cell_type": "code",
   "execution_count": 8,
   "id": "2e0d6c0f",
   "metadata": {},
   "outputs": [
    {
     "data": {
      "image/png": "[encoded data removed]",
      "text/plain": [
       "<Figure size 432x288 with 1 Axes>"
      ]
     },
     "metadata": {
      "needs_background": "light"
     },
     "output_type": "display_data"
    }
   ],
   "source": [
    "fig, ax = plt.subplots()\n",
    "line1, = ax.plot(dijkstra_dense_runtime_list, label='Dijkstra - Grafo Denso')\n",
    "line2, = ax.plot(dijkstra_sparse_runtime_list, label='Dijkstra - Grafo Esparso')\n",
    "ax.legend()\n",
    "plt.show()"
   ]
  },
  {
   "cell_type": "code",
   "execution_count": 9,
   "id": "00d94346",
   "metadata": {},
   "outputs": [
    {
     "data": {
      "image/png": "[encoded data removed]",
      "text/plain": [
       "<Figure size 432x288 with 1 Axes>"
      ]
     },
     "metadata": {
      "needs_background": "light"
     },
     "output_type": "display_data"
    }
   ],
   "source": [
    "fig, ax = plt.subplots()\n",
    "line3, = ax.plot(prims_dense_runtime_list, label='Prim\\'s - Grafo Denso')\n",
    "line4, = ax.plot(prims_sparse_runtime_list, label='Prim\\'s - Grafo Esparso')\n",
    "ax.legend()\n",
    "plt.show()"
   ]
  },
  {
   "cell_type": "code",
   "execution_count": 10,
   "id": "9de7f012",
   "metadata": {},
   "outputs": [
    {
     "data": {
      "image/png": "[encoded data removed]",
      "text/plain": [
       "<Figure size 432x288 with 1 Axes>"
      ]
     },
     "metadata": {
      "needs_background": "light"
     },
     "output_type": "display_data"
    }
   ],
   "source": [
    "fig, ax = plt.subplots()\n",
    "line1, = ax.plot(dijkstra_dense_runtime_list, label='Dijkstra - Grafo Denso')\n",
    "line2, = ax.plot(dijkstra_sparse_runtime_list, label='Dijkstra - Grafo Esparso')\n",
    "line3, = ax.plot(prims_dense_runtime_list, label='Prim\\'s - Grafo Denso')\n",
    "line4, = ax.plot(prims_sparse_runtime_list, label='Prim\\'s - Grafo Esparso')\n",
    "ax.legend()\n",
    "plt.show()"
   ]
  }
 ],
 "metadata": {
  "kernelspec": {
   "display_name": "Python 3",
   "language": "python",
   "name": "python3"
  },
  "language_info": {
   "codemirror_mode": {
    "name": "ipython",
    "version": 3
   },
   "file_extension": ".py",
   "mimetype": "text/x-python",
   "name": "python",
   "nbconvert_exporter": "python",
   "pygments_lexer": "ipython3",
   "version": "3.6.9"
  }
 },
 "nbformat": 4,
 "nbformat_minor": 5
}
