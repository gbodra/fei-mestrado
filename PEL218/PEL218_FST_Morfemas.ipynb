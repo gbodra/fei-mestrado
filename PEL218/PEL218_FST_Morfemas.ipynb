{
 "cells": [
  {
   "cell_type": "code",
   "execution_count": 9,
   "metadata": {},
   "outputs": [],
   "source": [
    "import fst"
   ]
  },
  {
   "cell_type": "code",
   "execution_count": 10,
   "metadata": {},
   "outputs": [],
   "source": [
    "f = fst.FST()\n",
    "f.add_state('S1',fst.INTITIAL_STATE)\n",
    "f.add_state('S2',fst.FINAL_STATE)\n",
    "f.add_state('S3',fst.FINAL_STATE)\n",
    "f.add_edge('S1','S2','ab','b')\n",
    "def cadastraRegra(w, si,sf, output):\n",
    "    if(len(w) == 1):\n",
    "        f.add_edge(si,sf,w[0],output)\n",
    "    else:\n",
    "    \n",
    "        f.add_state(w+'0',fst.NORMAL_STATE)\n",
    "        f.add_edge(si,w+'0',w[0],w[0])\n",
    "        i=0\n",
    "        for x in w[1:-1]:\n",
    "            f.add_state(w+str(i+1),fst.NORMAL_STATE)\n",
    "            f.add_edge(w+str(i),w+str(i+1),w[i+1],w[i+1])\n",
    "            i+=1\n",
    "\n",
    "        f.add_state(w+str(i+1),fst.FINAL_STATE)\n",
    "        f.add_edge(w+str(i),sf,w[i+1],w[i+1]+' '+output)\n",
    "\n",
    "    \n",
    "        f.states[-1].type=fst.FINAL_STATE\n",
    "\n",
    "    \n",
    "cadastraRegra(\"teste\",'S1',\"S2\", \"+N\")\n",
    "cadastraRegra(\"s\",'S2',\"S3\", \"+P\")"
   ]
  },
  {
   "cell_type": "code",
   "execution_count": 11,
   "metadata": {},
   "outputs": [
    {
     "data": {
      "text/plain": [
       "[('S1', 'S2', 'ab', 'b'),\n",
       " ('S1', 'teste0', 't', 't'),\n",
       " ('teste0', 'teste1', 'e', 'e'),\n",
       " ('teste1', 'teste2', 's', 's'),\n",
       " ('teste2', 'teste3', 't', 't'),\n",
       " ('teste3', 'S2', 'e', 'e +N'),\n",
       " ('S2', 'S3', 's', '+P')]"
      ]
     },
     "execution_count": 11,
     "metadata": {},
     "output_type": "execute_result"
    }
   ],
   "source": [
    "f.edges"
   ]
  },
  {
   "cell_type": "code",
   "execution_count": 13,
   "metadata": {},
   "outputs": [
    {
     "data": {
      "text/plain": [
       "'teste +N+P'"
      ]
     },
     "execution_count": 13,
     "metadata": {},
     "output_type": "execute_result"
    }
   ],
   "source": [
    "''.join(f.make_transition_function(\"testes\"))"
   ]
  },
  {
   "cell_type": "code",
   "execution_count": null,
   "metadata": {},
   "outputs": [],
   "source": []
  },
  {
   "cell_type": "code",
   "execution_count": 24,
   "metadata": {},
   "outputs": [],
   "source": []
  },
  {
   "cell_type": "code",
   "execution_count": null,
   "metadata": {},
   "outputs": [],
   "source": []
  },
  {
   "cell_type": "code",
   "execution_count": null,
   "metadata": {},
   "outputs": [],
   "source": []
  },
  {
   "cell_type": "code",
   "execution_count": null,
   "metadata": {},
   "outputs": [],
   "source": []
  },
  {
   "cell_type": "code",
   "execution_count": 41,
   "metadata": {},
   "outputs": [],
   "source": []
  },
  {
   "cell_type": "code",
   "execution_count": null,
   "metadata": {},
   "outputs": [],
   "source": []
  },
  {
   "cell_type": "code",
   "execution_count": null,
   "metadata": {},
   "outputs": [],
   "source": []
  },
  {
   "cell_type": "code",
   "execution_count": null,
   "metadata": {},
   "outputs": [],
   "source": []
  },
  {
   "cell_type": "code",
   "execution_count": null,
   "metadata": {},
   "outputs": [],
   "source": []
  },
  {
   "cell_type": "code",
   "execution_count": null,
   "metadata": {},
   "outputs": [],
   "source": []
  },
  {
   "cell_type": "code",
   "execution_count": null,
   "metadata": {},
   "outputs": [],
   "source": []
  },
  {
   "cell_type": "code",
   "execution_count": null,
   "metadata": {},
   "outputs": [],
   "source": []
  }
 ],
 "metadata": {
  "kernelspec": {
   "display_name": "Python 3",
   "language": "python",
   "name": "python3"
  },
  "language_info": {
   "codemirror_mode": {
    "name": "ipython",
    "version": 3
   },
   "file_extension": ".py",
   "mimetype": "text/x-python",
   "name": "python",
   "nbconvert_exporter": "python",
   "pygments_lexer": "ipython3",
   "version": "3.8.6"
  }
 },
 "nbformat": 4,
 "nbformat_minor": 4
}
