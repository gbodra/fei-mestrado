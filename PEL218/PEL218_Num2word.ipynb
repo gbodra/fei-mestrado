{
 "cells": [
  {
   "cell_type": "markdown",
   "metadata": {},
   "source": [
    "# Exercício 02\n",
    "Criar um gerador de valores monetários por extenso a partir de uma entrada numérica (de 0 até 999) usando um FST.\n",
    "\n",
    "* 142 -> cento e quarenta e dois\n",
    "* 0 -> zero\n",
    "* 15 -> quinze\n",
    "* 54 -> cinquenta e quatro"
   ]
  },
  {
   "cell_type": "code",
   "execution_count": 327,
   "metadata": {},
   "outputs": [],
   "source": [
    "import queue\n",
    "\n",
    "dados = [\"142\", \"0\", \"15\", \"54\"]\n",
    "unitarios = [\"um\", \"dois\", \"três\", \"quatro\", \"cinco\", \"seis\", \"sete\", \"oito\", \"nove\"]\n",
    "dezenas = [\"vinte\", \"trinta\", \"quarenta\", \"cinquenta\", \"sessenta\", \"setenta\", \"oitenta\", \"noventa\"]\n",
    "centenas = [\"cento\", \"duzentos\", \"trezentos\", \"quatrocentos\", \"quinhetos\", \"seicentos\", \"setecentos\", \"oitocentos\", \"novecentos\"]\n",
    "    \n",
    "\n",
    "def parse(inp):\n",
    "    f = queue.Queue()\n",
    "    pos = len(inp) - 1\n",
    "    f.put((\"q0\", pos))\n",
    "    saida = []\n",
    "\n",
    "    while not f.empty():\n",
    "        s, pos = f.get()\n",
    "\n",
    "        if s == \"qf\":\n",
    "            continue\n",
    "        \n",
    "        if pos < 0:\n",
    "            c = \"\"\n",
    "        else:\n",
    "            c = inp[pos]\n",
    "\n",
    "        pos -= 1\n",
    "\n",
    "        if c in t[s]:\n",
    "            nextSt, out = t[s][c]\n",
    "            f.put((nextSt, pos))\n",
    "            saida.append(out)\n",
    "    \n",
    "    saida = list(filter(None, saida))\n",
    "    saida.reverse()\n",
    "    saida = \" e \".join(saida)\n",
    "    \n",
    "    return saida"
   ]
  },
  {
   "cell_type": "code",
   "execution_count": 328,
   "metadata": {},
   "outputs": [
    {
     "data": {
      "text/plain": [
       "{'q0': {'1': ('q3', ''),\n",
       "  '2': ('q4', ''),\n",
       "  '3': ('q5', ''),\n",
       "  '4': ('q6', ''),\n",
       "  '5': ('q7', ''),\n",
       "  '6': ('q8', ''),\n",
       "  '7': ('q9', ''),\n",
       "  '8': ('q10', ''),\n",
       "  '9': ('q11', ''),\n",
       "  '0': ('q12', '')},\n",
       " 'q1': {'2': ('q2', 'vinte'),\n",
       "  '3': ('q2', 'trinta'),\n",
       "  '4': ('q2', 'quarenta'),\n",
       "  '5': ('q2', 'cinquenta'),\n",
       "  '6': ('q2', 'sessenta'),\n",
       "  '7': ('q2', 'setenta'),\n",
       "  '8': ('q2', 'oitenta'),\n",
       "  '9': ('q2', 'noventa')},\n",
       " 'q2': {'1': ('qf', 'cento'),\n",
       "  '2': ('qf', 'duzentos'),\n",
       "  '3': ('qf', 'trezentos'),\n",
       "  '4': ('qf', 'quatrocentos'),\n",
       "  '5': ('qf', 'quinhetos'),\n",
       "  '6': ('qf', 'seicentos'),\n",
       "  '7': ('qf', 'setecentos'),\n",
       "  '8': ('qf', 'oitocentos'),\n",
       "  '9': ('qf', 'novecentos')},\n",
       " 'q3': {'2': ('q2', 'vinte e um'),\n",
       "  '3': ('q2', 'trinta e um'),\n",
       "  '4': ('q2', 'quarenta e um'),\n",
       "  '5': ('q2', 'cinquenta e um'),\n",
       "  '6': ('q2', 'sessenta e um'),\n",
       "  '7': ('q2', 'setenta e um'),\n",
       "  '8': ('q2', 'oitenta e um'),\n",
       "  '9': ('q2', 'noventa e um'),\n",
       "  '1': ('q2', 'onze')},\n",
       " 'q4': {'2': ('q2', 'vinte e dois'),\n",
       "  '3': ('q2', 'trinta e dois'),\n",
       "  '4': ('q2', 'quarenta e dois'),\n",
       "  '5': ('q2', 'cinquenta e dois'),\n",
       "  '6': ('q2', 'sessenta e dois'),\n",
       "  '7': ('q2', 'setenta e dois'),\n",
       "  '8': ('q2', 'oitenta e dois'),\n",
       "  '9': ('q2', 'noventa e dois'),\n",
       "  '1': ('q2', 'doze')},\n",
       " 'q5': {'2': ('q2', 'vinte e três'),\n",
       "  '3': ('q2', 'trinta e três'),\n",
       "  '4': ('q2', 'quarenta e três'),\n",
       "  '5': ('q2', 'cinquenta e três'),\n",
       "  '6': ('q2', 'sessenta e três'),\n",
       "  '7': ('q2', 'setenta e três'),\n",
       "  '8': ('q2', 'oitenta e três'),\n",
       "  '9': ('q2', 'noventa e três'),\n",
       "  '1': ('q2', 'treze')},\n",
       " 'q6': {'2': ('q2', 'vinte e quatro'),\n",
       "  '3': ('q2', 'trinta e quatro'),\n",
       "  '4': ('q2', 'quarenta e quatro'),\n",
       "  '5': ('q2', 'cinquenta e quatro'),\n",
       "  '6': ('q2', 'sessenta e quatro'),\n",
       "  '7': ('q2', 'setenta e quatro'),\n",
       "  '8': ('q2', 'oitenta e quatro'),\n",
       "  '9': ('q2', 'noventa e quatro'),\n",
       "  '1': ('q2', 'quatorze')},\n",
       " 'q7': {'2': ('q2', 'vinte e cinco'),\n",
       "  '3': ('q2', 'trinta e cinco'),\n",
       "  '4': ('q2', 'quarenta e cinco'),\n",
       "  '5': ('q2', 'cinquenta e cinco'),\n",
       "  '6': ('q2', 'sessenta e cinco'),\n",
       "  '7': ('q2', 'setenta e cinco'),\n",
       "  '8': ('q2', 'oitenta e cinco'),\n",
       "  '9': ('q2', 'noventa e cinco'),\n",
       "  '1': ('q2', 'quinze')},\n",
       " 'q8': {'2': ('q2', 'vinte e seis'),\n",
       "  '3': ('q2', 'trinta e seis'),\n",
       "  '4': ('q2', 'quarenta e seis'),\n",
       "  '5': ('q2', 'cinquenta e seis'),\n",
       "  '6': ('q2', 'sessenta e seis'),\n",
       "  '7': ('q2', 'setenta e seis'),\n",
       "  '8': ('q2', 'oitenta e seis'),\n",
       "  '9': ('q2', 'noventa e seis'),\n",
       "  '1': ('q2', 'dezesseis')},\n",
       " 'q9': {'2': ('q2', 'vinte e sete'),\n",
       "  '3': ('q2', 'trinta e sete'),\n",
       "  '4': ('q2', 'quarenta e sete'),\n",
       "  '5': ('q2', 'cinquenta e sete'),\n",
       "  '6': ('q2', 'sessenta e sete'),\n",
       "  '7': ('q2', 'setenta e sete'),\n",
       "  '8': ('q2', 'oitenta e sete'),\n",
       "  '9': ('q2', 'noventa e sete'),\n",
       "  '1': ('q2', 'dezessete')},\n",
       " 'q10': {'2': ('q2', 'vinte e oito'),\n",
       "  '3': ('q2', 'trinta e oito'),\n",
       "  '4': ('q2', 'quarenta e oito'),\n",
       "  '5': ('q2', 'cinquenta e oito'),\n",
       "  '6': ('q2', 'sessenta e oito'),\n",
       "  '7': ('q2', 'setenta e oito'),\n",
       "  '8': ('q2', 'oitenta e oito'),\n",
       "  '9': ('q2', 'noventa e oito'),\n",
       "  '1': ('q2', 'dezoito')},\n",
       " 'q11': {'2': ('q2', 'vinte e nove'),\n",
       "  '3': ('q2', 'trinta e nove'),\n",
       "  '4': ('q2', 'quarenta e nove'),\n",
       "  '5': ('q2', 'cinquenta e nove'),\n",
       "  '6': ('q2', 'sessenta e nove'),\n",
       "  '7': ('q2', 'setenta e nove'),\n",
       "  '8': ('q2', 'oitenta e nove'),\n",
       "  '9': ('q2', 'noventa e nove'),\n",
       "  '1': ('q2', 'dezenove')},\n",
       " 'q12': {'2': ('q2', 'vinte'),\n",
       "  '3': ('q2', 'trinta'),\n",
       "  '4': ('q2', 'quarenta'),\n",
       "  '5': ('q2', 'cinquenta'),\n",
       "  '6': ('q2', 'sessenta'),\n",
       "  '7': ('q2', 'setenta'),\n",
       "  '8': ('q2', 'oitenta'),\n",
       "  '9': ('q2', 'noventa'),\n",
       "  '': ('qf', 'zero'),\n",
       "  '1': ('q2', 'dez')}}"
      ]
     },
     "execution_count": 328,
     "metadata": {},
     "output_type": "execute_result"
    }
   ],
   "source": [
    "t = {\n",
    "    \"q0\": {str(x+1): (\"q\" + str(3+x), \"\") for x in range(9)},\n",
    "    \"q1\": {str(x+2): (\"q2\", dezenas[x]) for x in range(8)},\n",
    "    \"q2\": {str(x+1): (\"qf\", centenas[x]) for x in range(9)},\n",
    "    \"q3\": {str(x+2): (\"q2\", dezenas[x] + \" e um\") for x in range(8)},\n",
    "    \"q4\": {str(x+2): (\"q2\", dezenas[x] + \" e dois\") for x in range(8)},\n",
    "    \"q5\": {str(x+2): (\"q2\", dezenas[x] + \" e três\") for x in range(8)},\n",
    "    \"q6\": {str(x+2): (\"q2\", dezenas[x] + \" e quatro\") for x in range(8)},\n",
    "    \"q7\": {str(x+2): (\"q2\", dezenas[x] + \" e cinco\") for x in range(8)},\n",
    "    \"q8\": {str(x+2): (\"q2\", dezenas[x] + \" e seis\") for x in range(8)},\n",
    "    \"q9\": {str(x+2): (\"q2\", dezenas[x] + \" e sete\") for x in range(8)},\n",
    "    \"q10\": {str(x+2): (\"q2\", dezenas[x] + \" e oito\") for x in range(8)},\n",
    "    \"q11\": {str(x+2): (\"q2\", dezenas[x] + \" e nove\") for x in range(8)},\n",
    "    \"q12\": {str(x+2): (\"q2\", dezenas[x]) for x in range(8)}\n",
    "}\n",
    "t[\"q0\"].update({\"0\": (\"q12\", \"\")})\n",
    "t[\"q3\"].update({\"1\": (\"q2\", \"onze\")})\n",
    "t[\"q4\"].update({\"1\": (\"q2\", \"doze\")})\n",
    "t[\"q5\"].update({\"1\": (\"q2\", \"treze\")})\n",
    "t[\"q6\"].update({\"1\": (\"q2\", \"quatorze\")})\n",
    "t[\"q7\"].update({\"1\": (\"q2\", \"quinze\")})\n",
    "t[\"q8\"].update({\"1\": (\"q2\", \"dezesseis\")})\n",
    "t[\"q9\"].update({\"1\": (\"q2\", \"dezessete\")})\n",
    "t[\"q10\"].update({\"1\": (\"q2\", \"dezoito\")})\n",
    "t[\"q11\"].update({\"1\": (\"q2\", \"dezenove\")})\n",
    "t[\"q12\"].update({\"\": (\"qf\", \"zero\")})\n",
    "t[\"q12\"].update({\"1\": (\"q2\", \"dez\")})\n",
    "t"
   ]
  },
  {
   "cell_type": "code",
   "execution_count": 329,
   "metadata": {},
   "outputs": [
    {
     "data": {
      "text/plain": [
       "'trezentos e vinte e dois'"
      ]
     },
     "execution_count": 329,
     "metadata": {},
     "output_type": "execute_result"
    }
   ],
   "source": [
    "parse(\"322\")"
   ]
  },
  {
   "cell_type": "code",
   "execution_count": 330,
   "metadata": {},
   "outputs": [
    {
     "data": {
      "text/plain": [
       "'cento e quarenta e dois'"
      ]
     },
     "execution_count": 330,
     "metadata": {},
     "output_type": "execute_result"
    }
   ],
   "source": [
    "parse(dados[0])"
   ]
  },
  {
   "cell_type": "code",
   "execution_count": 331,
   "metadata": {},
   "outputs": [
    {
     "data": {
      "text/plain": [
       "'zero'"
      ]
     },
     "execution_count": 331,
     "metadata": {},
     "output_type": "execute_result"
    }
   ],
   "source": [
    "parse(dados[1])"
   ]
  },
  {
   "cell_type": "code",
   "execution_count": 332,
   "metadata": {},
   "outputs": [
    {
     "data": {
      "text/plain": [
       "'quinze'"
      ]
     },
     "execution_count": 332,
     "metadata": {},
     "output_type": "execute_result"
    }
   ],
   "source": [
    "parse(dados[2])"
   ]
  },
  {
   "cell_type": "code",
   "execution_count": 333,
   "metadata": {},
   "outputs": [
    {
     "data": {
      "text/plain": [
       "'cinquenta e quatro'"
      ]
     },
     "execution_count": 333,
     "metadata": {},
     "output_type": "execute_result"
    }
   ],
   "source": [
    "parse(dados[3])"
   ]
  },
  {
   "cell_type": "code",
   "execution_count": null,
   "metadata": {},
   "outputs": [],
   "source": []
  }
 ],
 "metadata": {
  "kernelspec": {
   "display_name": "Python 3",
   "language": "python",
   "name": "python3"
  },
  "language_info": {
   "codemirror_mode": {
    "name": "ipython",
    "version": 3
   },
   "file_extension": ".py",
   "mimetype": "text/x-python",
   "name": "python",
   "nbconvert_exporter": "python",
   "pygments_lexer": "ipython3",
   "version": "3.7.3"
  }
 },
 "nbformat": 4,
 "nbformat_minor": 4
}
