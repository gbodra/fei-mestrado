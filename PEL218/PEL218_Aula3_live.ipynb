{
 "cells": [
  {
   "cell_type": "code",
   "execution_count": 40,
   "metadata": {},
   "outputs": [],
   "source": [
    "from collections import defaultdict\n",
    "import queue"
   ]
  },
  {
   "cell_type": "code",
   "execution_count": 41,
   "metadata": {},
   "outputs": [],
   "source": [
    "t = {\n",
    "    \"q0\": {\"b\": (\"q1\", \"b\")},\n",
    "    \"q1\": {\"a\": (\"q3\", \"a\")},\n",
    "    \"q2\": {\"a\": (\"q2\", \"\"), \"!\": (\"q3\", \"!\") },\n",
    "    \"q3\": {}\n",
    "}"
   ]
  },
  {
   "cell_type": "code",
   "execution_count": 42,
   "metadata": {},
   "outputs": [],
   "source": [
    "def parse(t, inp, qend, qstart = \"q0\"):\n",
    "    qcurr = qstart\n",
    "    out = \"\"\n",
    "    for c in inp:\n",
    "        if c in t[qcurr]:\n",
    "            qcurr, output = t[qcurr][c]\n",
    "            out = out + output\n",
    "        else:\n",
    "            return None\n",
    "    \n",
    "    if (qcurr == qend):\n",
    "        return out\n",
    "    else:\n",
    "        return None"
   ]
  },
  {
   "cell_type": "code",
   "execution_count": 43,
   "metadata": {},
   "outputs": [],
   "source": [
    "inp = \"baaaa!\""
   ]
  },
  {
   "cell_type": "code",
   "execution_count": 44,
   "metadata": {},
   "outputs": [],
   "source": [
    "parse(t, inp, \"q3\", \"q0\")"
   ]
  }
 ],
 "metadata": {
  "kernelspec": {
   "display_name": "Python 3",
   "language": "python",
   "name": "python3"
  },
  "language_info": {
   "codemirror_mode": {
    "name": "ipython",
    "version": 3
   },
   "file_extension": ".py",
   "mimetype": "text/x-python",
   "name": "python",
   "nbconvert_exporter": "python",
   "pygments_lexer": "ipython3",
   "version": "3.7.3"
  }
 },
 "nbformat": 4,
 "nbformat_minor": 4
}
