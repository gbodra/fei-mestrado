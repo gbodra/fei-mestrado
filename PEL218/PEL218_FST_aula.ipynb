{
 "cells": [
  {
   "cell_type": "code",
   "execution_count": 4,
   "metadata": {},
   "outputs": [],
   "source": [
    "from collections import defaultdict\n",
    "import queue"
   ]
  },
  {
   "cell_type": "code",
   "execution_count": 5,
   "metadata": {},
   "outputs": [],
   "source": [
    "t = {\n",
    "    \"q0\": {\"b\" : (\"q1\", \"b\") },    \n",
    "    \"q1\": {\"a\" : (\"q2\", \"a\") },\n",
    "    \"q2\": {\"a\" : (\"q2\", \"\"), \"!\" : (\"q3\", \"!\") },\n",
    "    \"q3\": {}\n",
    "}"
   ]
  },
  {
   "cell_type": "code",
   "execution_count": 6,
   "metadata": {},
   "outputs": [],
   "source": [
    "def parse(t, inp, qend, qstart=\"q0\"):\n",
    "    qcurr = qstart\n",
    "    out=\"\"\n",
    "    \n",
    "    for c in inp:\n",
    "        if c in t[qcurr]:\n",
    "            qcurr, output = t[qcurr][c]\n",
    "            out=out+output\n",
    "        else:\n",
    "            return None\n",
    "        \n",
    "    if(qcurr == qend):\n",
    "        return out\n",
    "    else:\n",
    "        return None"
   ]
  },
  {
   "cell_type": "code",
   "execution_count": 7,
   "metadata": {},
   "outputs": [],
   "source": [
    "m='abcdefghijklmnoprqstuvwxyz'\n",
    "M=str.upper('abcdefghijklmnoprqstuvwxyz')"
   ]
  },
  {
   "cell_type": "code",
   "execution_count": 8,
   "metadata": {},
   "outputs": [],
   "source": [
    "t = {\n",
    "    \"q0\": { x: (\"q1\", y) for x,y in zip(m+M,M+M) },\n",
    "    \"q1\": { x: (\"q1\", y) for x,y in zip(M+m,m+m)  },\n",
    "}"
   ]
  },
  {
   "cell_type": "code",
   "execution_count": 9,
   "metadata": {},
   "outputs": [
    {
     "data": {
      "text/plain": [
       "{'q0': {'a': ('q1', 'A'),\n",
       "  'b': ('q1', 'B'),\n",
       "  'c': ('q1', 'C'),\n",
       "  'd': ('q1', 'D'),\n",
       "  'e': ('q1', 'E'),\n",
       "  'f': ('q1', 'F'),\n",
       "  'g': ('q1', 'G'),\n",
       "  'h': ('q1', 'H'),\n",
       "  'i': ('q1', 'I'),\n",
       "  'j': ('q1', 'J'),\n",
       "  'k': ('q1', 'K'),\n",
       "  'l': ('q1', 'L'),\n",
       "  'm': ('q1', 'M'),\n",
       "  'n': ('q1', 'N'),\n",
       "  'o': ('q1', 'O'),\n",
       "  'p': ('q1', 'P'),\n",
       "  'r': ('q1', 'R'),\n",
       "  'q': ('q1', 'Q'),\n",
       "  's': ('q1', 'S'),\n",
       "  't': ('q1', 'T'),\n",
       "  'u': ('q1', 'U'),\n",
       "  'v': ('q1', 'V'),\n",
       "  'w': ('q1', 'W'),\n",
       "  'x': ('q1', 'X'),\n",
       "  'y': ('q1', 'Y'),\n",
       "  'z': ('q1', 'Z'),\n",
       "  'A': ('q1', 'A'),\n",
       "  'B': ('q1', 'B'),\n",
       "  'C': ('q1', 'C'),\n",
       "  'D': ('q1', 'D'),\n",
       "  'E': ('q1', 'E'),\n",
       "  'F': ('q1', 'F'),\n",
       "  'G': ('q1', 'G'),\n",
       "  'H': ('q1', 'H'),\n",
       "  'I': ('q1', 'I'),\n",
       "  'J': ('q1', 'J'),\n",
       "  'K': ('q1', 'K'),\n",
       "  'L': ('q1', 'L'),\n",
       "  'M': ('q1', 'M'),\n",
       "  'N': ('q1', 'N'),\n",
       "  'O': ('q1', 'O'),\n",
       "  'P': ('q1', 'P'),\n",
       "  'R': ('q1', 'R'),\n",
       "  'Q': ('q1', 'Q'),\n",
       "  'S': ('q1', 'S'),\n",
       "  'T': ('q1', 'T'),\n",
       "  'U': ('q1', 'U'),\n",
       "  'V': ('q1', 'V'),\n",
       "  'W': ('q1', 'W'),\n",
       "  'X': ('q1', 'X'),\n",
       "  'Y': ('q1', 'Y'),\n",
       "  'Z': ('q1', 'Z')},\n",
       " 'q1': {'A': ('q1', 'a'),\n",
       "  'B': ('q1', 'b'),\n",
       "  'C': ('q1', 'c'),\n",
       "  'D': ('q1', 'd'),\n",
       "  'E': ('q1', 'e'),\n",
       "  'F': ('q1', 'f'),\n",
       "  'G': ('q1', 'g'),\n",
       "  'H': ('q1', 'h'),\n",
       "  'I': ('q1', 'i'),\n",
       "  'J': ('q1', 'j'),\n",
       "  'K': ('q1', 'k'),\n",
       "  'L': ('q1', 'l'),\n",
       "  'M': ('q1', 'm'),\n",
       "  'N': ('q1', 'n'),\n",
       "  'O': ('q1', 'o'),\n",
       "  'P': ('q1', 'p'),\n",
       "  'R': ('q1', 'r'),\n",
       "  'Q': ('q1', 'q'),\n",
       "  'S': ('q1', 's'),\n",
       "  'T': ('q1', 't'),\n",
       "  'U': ('q1', 'u'),\n",
       "  'V': ('q1', 'v'),\n",
       "  'W': ('q1', 'w'),\n",
       "  'X': ('q1', 'x'),\n",
       "  'Y': ('q1', 'y'),\n",
       "  'Z': ('q1', 'z'),\n",
       "  'a': ('q1', 'a'),\n",
       "  'b': ('q1', 'b'),\n",
       "  'c': ('q1', 'c'),\n",
       "  'd': ('q1', 'd'),\n",
       "  'e': ('q1', 'e'),\n",
       "  'f': ('q1', 'f'),\n",
       "  'g': ('q1', 'g'),\n",
       "  'h': ('q1', 'h'),\n",
       "  'i': ('q1', 'i'),\n",
       "  'j': ('q1', 'j'),\n",
       "  'k': ('q1', 'k'),\n",
       "  'l': ('q1', 'l'),\n",
       "  'm': ('q1', 'm'),\n",
       "  'n': ('q1', 'n'),\n",
       "  'o': ('q1', 'o'),\n",
       "  'p': ('q1', 'p'),\n",
       "  'r': ('q1', 'r'),\n",
       "  'q': ('q1', 'q'),\n",
       "  's': ('q1', 's'),\n",
       "  't': ('q1', 't'),\n",
       "  'u': ('q1', 'u'),\n",
       "  'v': ('q1', 'v'),\n",
       "  'w': ('q1', 'w'),\n",
       "  'x': ('q1', 'x'),\n",
       "  'y': ('q1', 'y'),\n",
       "  'z': ('q1', 'z'),\n",
       "  ' ': ('q0', ' ')}}"
      ]
     },
     "execution_count": 9,
     "metadata": {},
     "output_type": "execute_result"
    }
   ],
   "source": [
    "t[\"q1\"].update({\" \":(\"q0\", \" \")})\n",
    "t"
   ]
  },
  {
   "cell_type": "code",
   "execution_count": 198,
   "metadata": {},
   "outputs": [
    {
     "data": {
      "text/plain": [
       "'Guilherme Wachs Lopes'"
      ]
     },
     "execution_count": 198,
     "metadata": {},
     "output_type": "execute_result"
    }
   ],
   "source": [
    "parse(t,\"guilHeRMe WacHs LoPes\",qend=\"q1\")"
   ]
  },
  {
   "cell_type": "code",
   "execution_count": null,
   "metadata": {},
   "outputs": [],
   "source": []
  },
  {
   "cell_type": "code",
   "execution_count": null,
   "metadata": {},
   "outputs": [],
   "source": []
  }
 ],
 "metadata": {
  "kernelspec": {
   "display_name": "Python 3",
   "language": "python",
   "name": "python3"
  },
  "language_info": {
   "codemirror_mode": {
    "name": "ipython",
    "version": 3
   },
   "file_extension": ".py",
   "mimetype": "text/x-python",
   "name": "python",
   "nbconvert_exporter": "python",
   "pygments_lexer": "ipython3",
   "version": "3.7.3"
  }
 },
 "nbformat": 4,
 "nbformat_minor": 4
}
